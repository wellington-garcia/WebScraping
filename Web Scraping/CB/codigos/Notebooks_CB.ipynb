{
  "nbformat": 4,
  "nbformat_minor": 0,
  "metadata": {
    "colab": {
      "name": "Notebooks casas bahia.ipynb",
      "provenance": []
    },
    "kernelspec": {
      "name": "python3",
      "display_name": "Python 3"
    },
    "language_info": {
      "name": "python"
    }
  },
  "cells": [
    {
      "cell_type": "markdown",
      "metadata": {
        "id": "hG6NFEy49Mtv"
      },
      "source": [
        "# Importando os pacotes"
      ]
    },
    {
      "cell_type": "code",
      "metadata": {
        "id": "wNGlb2nHdwzN"
      },
      "source": [
        "%matplotlib inline\n",
        "import pandas as pd\n",
        "import matplotlib.pyplot as plt"
      ],
      "execution_count": 257,
      "outputs": []
    },
    {
      "cell_type": "markdown",
      "metadata": {
        "id": "5pCHk4zl9IKk"
      },
      "source": [
        "## Importando os dados"
      ]
    },
    {
      "cell_type": "code",
      "metadata": {
        "id": "P_7Q5MX8d1G2"
      },
      "source": [
        "df = pd.read_csv('notebook_cb.csv', sep=';')"
      ],
      "execution_count": 258,
      "outputs": []
    },
    {
      "cell_type": "code",
      "metadata": {
        "colab": {
          "base_uri": "https://localhost:8080/",
          "height": 0
        },
        "id": "b9_sHWL5e2Yd",
        "outputId": "b3bd2d5b-a99d-4a80-c27b-6c926a96be9e"
      },
      "source": [
        "df"
      ],
      "execution_count": 259,
      "outputs": [
        {
          "output_type": "execute_result",
          "data": {
            "text/html": [
              "<div>\n",
              "<style scoped>\n",
              "    .dataframe tbody tr th:only-of-type {\n",
              "        vertical-align: middle;\n",
              "    }\n",
              "\n",
              "    .dataframe tbody tr th {\n",
              "        vertical-align: top;\n",
              "    }\n",
              "\n",
              "    .dataframe thead th {\n",
              "        text-align: right;\n",
              "    }\n",
              "</style>\n",
              "<table border=\"1\" class=\"dataframe\">\n",
              "  <thead>\n",
              "    <tr style=\"text-align: right;\">\n",
              "      <th></th>\n",
              "      <th>Notebooks</th>\n",
              "      <th>preco</th>\n",
              "      <th>parcelas</th>\n",
              "      <th>valor_parcelas</th>\n",
              "    </tr>\n",
              "  </thead>\n",
              "  <tbody>\n",
              "    <tr>\n",
              "      <th>0</th>\n",
              "      <td>Notebook Gamer Acer NVIDIA GeForce GTX 1650 Co...</td>\n",
              "      <td>5.599,00</td>\n",
              "      <td>10</td>\n",
              "      <td>559,90</td>\n",
              "    </tr>\n",
              "    <tr>\n",
              "      <th>1</th>\n",
              "      <td>Notebook Gamer Asus NVIDIA GeForce GTX 1050 AM...</td>\n",
              "      <td>5.199,00</td>\n",
              "      <td>10</td>\n",
              "      <td>519,90</td>\n",
              "    </tr>\n",
              "    <tr>\n",
              "      <th>2</th>\n",
              "      <td>Notebook Dell Core i7-8565U 8GB 2TB Tela 15.6”...</td>\n",
              "      <td>4.699,00</td>\n",
              "      <td>10</td>\n",
              "      <td>469,90</td>\n",
              "    </tr>\n",
              "    <tr>\n",
              "      <th>3</th>\n",
              "      <td>Notebook VAIO Core i7-10510U 8GB 1TB Tela 15.6...</td>\n",
              "      <td>4.999,00</td>\n",
              "      <td>10</td>\n",
              "      <td>499,90</td>\n",
              "    </tr>\n",
              "    <tr>\n",
              "      <th>4</th>\n",
              "      <td>Notebook Asus Core i7-10510U 8GB 1TB Placa de ...</td>\n",
              "      <td>5.099,00</td>\n",
              "      <td>10</td>\n",
              "      <td>509,90</td>\n",
              "    </tr>\n",
              "    <tr>\n",
              "      <th>...</th>\n",
              "      <td>...</td>\n",
              "      <td>...</td>\n",
              "      <td>...</td>\n",
              "      <td>...</td>\n",
              "    </tr>\n",
              "    <tr>\n",
              "      <th>535</th>\n",
              "      <td>Notebook Lenovo Ideapad Core I3-10110u 8gb 1tb...</td>\n",
              "      <td>5.599,00</td>\n",
              "      <td>10</td>\n",
              "      <td>559,90</td>\n",
              "    </tr>\n",
              "    <tr>\n",
              "      <th>536</th>\n",
              "      <td>Notebook Asus VivoBook 15, Intel Core i7 10510...</td>\n",
              "      <td>6.690,20</td>\n",
              "      <td>10</td>\n",
              "      <td>669,02</td>\n",
              "    </tr>\n",
              "    <tr>\n",
              "      <th>537</th>\n",
              "      <td>Notebook Lenovo Ideapad S145 - Tela 15.6, Inte...</td>\n",
              "      <td>0</td>\n",
              "      <td>0</td>\n",
              "      <td>0</td>\n",
              "    </tr>\n",
              "    <tr>\n",
              "      <th>538</th>\n",
              "      <td>Notebook Lenovo Ideapad S145 - Tela 15.6, Inte...</td>\n",
              "      <td>4.422,38</td>\n",
              "      <td>10</td>\n",
              "      <td>442,24</td>\n",
              "    </tr>\n",
              "    <tr>\n",
              "      <th>539</th>\n",
              "      <td>Notebook Lenovo Ideapad S145 - Tela 15.6, Inte...</td>\n",
              "      <td>0</td>\n",
              "      <td>0</td>\n",
              "      <td>0</td>\n",
              "    </tr>\n",
              "  </tbody>\n",
              "</table>\n",
              "<p>540 rows × 4 columns</p>\n",
              "</div>"
            ],
            "text/plain": [
              "                                             Notebooks  ... valor_parcelas\n",
              "0    Notebook Gamer Acer NVIDIA GeForce GTX 1650 Co...  ...         559,90\n",
              "1    Notebook Gamer Asus NVIDIA GeForce GTX 1050 AM...  ...         519,90\n",
              "2    Notebook Dell Core i7-8565U 8GB 2TB Tela 15.6”...  ...         469,90\n",
              "3    Notebook VAIO Core i7-10510U 8GB 1TB Tela 15.6...  ...         499,90\n",
              "4    Notebook Asus Core i7-10510U 8GB 1TB Placa de ...  ...         509,90\n",
              "..                                                 ...  ...            ...\n",
              "535  Notebook Lenovo Ideapad Core I3-10110u 8gb 1tb...  ...         559,90\n",
              "536  Notebook Asus VivoBook 15, Intel Core i7 10510...  ...         669,02\n",
              "537  Notebook Lenovo Ideapad S145 - Tela 15.6, Inte...  ...              0\n",
              "538  Notebook Lenovo Ideapad S145 - Tela 15.6, Inte...  ...         442,24\n",
              "539  Notebook Lenovo Ideapad S145 - Tela 15.6, Inte...  ...              0\n",
              "\n",
              "[540 rows x 4 columns]"
            ]
          },
          "metadata": {},
          "execution_count": 259
        }
      ]
    },
    {
      "cell_type": "markdown",
      "metadata": {
        "id": "Agc1W7R89W5X"
      },
      "source": [
        "# Selecionando os primeiros 500 resultados"
      ]
    },
    {
      "cell_type": "code",
      "metadata": {
        "id": "gOYy3ek2Gv0n"
      },
      "source": [
        ""
      ],
      "execution_count": 259,
      "outputs": []
    },
    {
      "cell_type": "code",
      "metadata": {
        "id": "0eXCZdrB63sD"
      },
      "source": [
        "df = df.iloc[0:500] "
      ],
      "execution_count": 260,
      "outputs": []
    },
    {
      "cell_type": "code",
      "metadata": {
        "colab": {
          "base_uri": "https://localhost:8080/",
          "height": 419
        },
        "id": "Nrb8w-SK69zf",
        "outputId": "729259ed-713a-4318-8679-a90a99fbaffa"
      },
      "source": [
        "df"
      ],
      "execution_count": 261,
      "outputs": [
        {
          "output_type": "execute_result",
          "data": {
            "text/html": [
              "<div>\n",
              "<style scoped>\n",
              "    .dataframe tbody tr th:only-of-type {\n",
              "        vertical-align: middle;\n",
              "    }\n",
              "\n",
              "    .dataframe tbody tr th {\n",
              "        vertical-align: top;\n",
              "    }\n",
              "\n",
              "    .dataframe thead th {\n",
              "        text-align: right;\n",
              "    }\n",
              "</style>\n",
              "<table border=\"1\" class=\"dataframe\">\n",
              "  <thead>\n",
              "    <tr style=\"text-align: right;\">\n",
              "      <th></th>\n",
              "      <th>Notebooks</th>\n",
              "      <th>preco</th>\n",
              "      <th>parcelas</th>\n",
              "      <th>valor_parcelas</th>\n",
              "    </tr>\n",
              "  </thead>\n",
              "  <tbody>\n",
              "    <tr>\n",
              "      <th>0</th>\n",
              "      <td>Notebook Gamer Acer NVIDIA GeForce GTX 1650 Co...</td>\n",
              "      <td>5.599,00</td>\n",
              "      <td>10</td>\n",
              "      <td>559,90</td>\n",
              "    </tr>\n",
              "    <tr>\n",
              "      <th>1</th>\n",
              "      <td>Notebook Gamer Asus NVIDIA GeForce GTX 1050 AM...</td>\n",
              "      <td>5.199,00</td>\n",
              "      <td>10</td>\n",
              "      <td>519,90</td>\n",
              "    </tr>\n",
              "    <tr>\n",
              "      <th>2</th>\n",
              "      <td>Notebook Dell Core i7-8565U 8GB 2TB Tela 15.6”...</td>\n",
              "      <td>4.699,00</td>\n",
              "      <td>10</td>\n",
              "      <td>469,90</td>\n",
              "    </tr>\n",
              "    <tr>\n",
              "      <th>3</th>\n",
              "      <td>Notebook VAIO Core i7-10510U 8GB 1TB Tela 15.6...</td>\n",
              "      <td>4.999,00</td>\n",
              "      <td>10</td>\n",
              "      <td>499,90</td>\n",
              "    </tr>\n",
              "    <tr>\n",
              "      <th>4</th>\n",
              "      <td>Notebook Asus Core i7-10510U 8GB 1TB Placa de ...</td>\n",
              "      <td>5.099,00</td>\n",
              "      <td>10</td>\n",
              "      <td>509,90</td>\n",
              "    </tr>\n",
              "    <tr>\n",
              "      <th>...</th>\n",
              "      <td>...</td>\n",
              "      <td>...</td>\n",
              "      <td>...</td>\n",
              "      <td>...</td>\n",
              "    </tr>\n",
              "    <tr>\n",
              "      <th>495</th>\n",
              "      <td>Notebook Dell Inspiron 3501-M60P 15.6&amp;quot; HD...</td>\n",
              "      <td>5.499,00</td>\n",
              "      <td>10</td>\n",
              "      <td>549,90</td>\n",
              "    </tr>\n",
              "    <tr>\n",
              "      <th>496</th>\n",
              "      <td>Kit Notebook Dell Inspiron 3501-M60PF 15.6&amp;quo...</td>\n",
              "      <td>5.739,00</td>\n",
              "      <td>10</td>\n",
              "      <td>573,90</td>\n",
              "    </tr>\n",
              "    <tr>\n",
              "      <th>497</th>\n",
              "      <td>Notebook Dell Inspiron 3501-U60P 15.6&amp;quot; HD...</td>\n",
              "      <td>5.349,00</td>\n",
              "      <td>10</td>\n",
              "      <td>534,90</td>\n",
              "    </tr>\n",
              "    <tr>\n",
              "      <th>498</th>\n",
              "      <td>Kit Notebook Dell Inspiron 3501-M60SB 15.6&amp;quo...</td>\n",
              "      <td>5.639,00</td>\n",
              "      <td>10</td>\n",
              "      <td>563,90</td>\n",
              "    </tr>\n",
              "    <tr>\n",
              "      <th>499</th>\n",
              "      <td>Notebook Lenovo IdeaPad 3i-IML, Tela de 15.6&amp;q...</td>\n",
              "      <td>4.599,00</td>\n",
              "      <td>10</td>\n",
              "      <td>459,90</td>\n",
              "    </tr>\n",
              "  </tbody>\n",
              "</table>\n",
              "<p>500 rows × 4 columns</p>\n",
              "</div>"
            ],
            "text/plain": [
              "                                             Notebooks  ... valor_parcelas\n",
              "0    Notebook Gamer Acer NVIDIA GeForce GTX 1650 Co...  ...         559,90\n",
              "1    Notebook Gamer Asus NVIDIA GeForce GTX 1050 AM...  ...         519,90\n",
              "2    Notebook Dell Core i7-8565U 8GB 2TB Tela 15.6”...  ...         469,90\n",
              "3    Notebook VAIO Core i7-10510U 8GB 1TB Tela 15.6...  ...         499,90\n",
              "4    Notebook Asus Core i7-10510U 8GB 1TB Placa de ...  ...         509,90\n",
              "..                                                 ...  ...            ...\n",
              "495  Notebook Dell Inspiron 3501-M60P 15.6&quot; HD...  ...         549,90\n",
              "496  Kit Notebook Dell Inspiron 3501-M60PF 15.6&quo...  ...         573,90\n",
              "497  Notebook Dell Inspiron 3501-U60P 15.6&quot; HD...  ...         534,90\n",
              "498  Kit Notebook Dell Inspiron 3501-M60SB 15.6&quo...  ...         563,90\n",
              "499  Notebook Lenovo IdeaPad 3i-IML, Tela de 15.6&q...  ...         459,90\n",
              "\n",
              "[500 rows x 4 columns]"
            ]
          },
          "metadata": {},
          "execution_count": 261
        }
      ]
    },
    {
      "cell_type": "markdown",
      "metadata": {
        "id": "0hStHNQy9c9l"
      },
      "source": [
        "# Organizando pelo preço"
      ]
    },
    {
      "cell_type": "code",
      "metadata": {
        "id": "foxsUC4GeFF7"
      },
      "source": [
        "df = df.sort_values(by='preco', ascending=False)  "
      ],
      "execution_count": 262,
      "outputs": []
    },
    {
      "cell_type": "code",
      "metadata": {
        "id": "aj7QEuLzjyHC"
      },
      "source": [
        "df['preco'] = df['preco'].str.replace('.','')\n",
        "df['preco'] = df['preco'].str.replace(',','.')\n",
        "\n",
        "df['valor_parcelas'] = df['valor_parcelas'].str.replace('.','')\n",
        "df['valor_parcelas'] = df['valor_parcelas'].str.replace(',','.')"
      ],
      "execution_count": 263,
      "outputs": []
    },
    {
      "cell_type": "code",
      "metadata": {
        "colab": {
          "base_uri": "https://localhost:8080/",
          "height": 0
        },
        "id": "Li9lS9UjkHy5",
        "outputId": "972976ec-03a8-4f46-e24d-4f3dca301142"
      },
      "source": [
        "df"
      ],
      "execution_count": 264,
      "outputs": [
        {
          "output_type": "execute_result",
          "data": {
            "text/html": [
              "<div>\n",
              "<style scoped>\n",
              "    .dataframe tbody tr th:only-of-type {\n",
              "        vertical-align: middle;\n",
              "    }\n",
              "\n",
              "    .dataframe tbody tr th {\n",
              "        vertical-align: top;\n",
              "    }\n",
              "\n",
              "    .dataframe thead th {\n",
              "        text-align: right;\n",
              "    }\n",
              "</style>\n",
              "<table border=\"1\" class=\"dataframe\">\n",
              "  <thead>\n",
              "    <tr style=\"text-align: right;\">\n",
              "      <th></th>\n",
              "      <th>Notebooks</th>\n",
              "      <th>preco</th>\n",
              "      <th>parcelas</th>\n",
              "      <th>valor_parcelas</th>\n",
              "    </tr>\n",
              "  </thead>\n",
              "  <tbody>\n",
              "    <tr>\n",
              "      <th>37</th>\n",
              "      <td>Notebook Touch Lenovo Yoga C940 i7-1065G 8GB 2...</td>\n",
              "      <td>9999.00</td>\n",
              "      <td>10</td>\n",
              "      <td>999.90</td>\n",
              "    </tr>\n",
              "    <tr>\n",
              "      <th>375</th>\n",
              "      <td>Notebook Gamer Dell G15-i1100-M50PB 15.6&amp;quot;...</td>\n",
              "      <td>9979.00</td>\n",
              "      <td>10</td>\n",
              "      <td>997.90</td>\n",
              "    </tr>\n",
              "    <tr>\n",
              "      <th>103</th>\n",
              "      <td>Notebook Dell Xps 9300 I7 10 Gen 16gb 1tb Ssd ...</td>\n",
              "      <td>9940.00</td>\n",
              "      <td>10</td>\n",
              "      <td>994.00</td>\n",
              "    </tr>\n",
              "    <tr>\n",
              "      <th>76</th>\n",
              "      <td>NOTEBOOK DELL XPS 9300 I7 10th Geração 16gb 1t...</td>\n",
              "      <td>9940.00</td>\n",
              "      <td>10</td>\n",
              "      <td>994.00</td>\n",
              "    </tr>\n",
              "    <tr>\n",
              "      <th>221</th>\n",
              "      <td>Notebook Acer Aspire 5 AN515-54-528V Intel Cor...</td>\n",
              "      <td>9899.99</td>\n",
              "      <td>10</td>\n",
              "      <td>990.00</td>\n",
              "    </tr>\n",
              "    <tr>\n",
              "      <th>...</th>\n",
              "      <td>...</td>\n",
              "      <td>...</td>\n",
              "      <td>...</td>\n",
              "      <td>...</td>\n",
              "    </tr>\n",
              "    <tr>\n",
              "      <th>224</th>\n",
              "      <td>Notebook Dell i15-3501 - Tela 15.6, Intel i5 1...</td>\n",
              "      <td>0</td>\n",
              "      <td>0</td>\n",
              "      <td>0</td>\n",
              "    </tr>\n",
              "    <tr>\n",
              "      <th>79</th>\n",
              "      <td>Notebook Lenovo Ideapad S145 - Tela 15.6 HD, I...</td>\n",
              "      <td>0</td>\n",
              "      <td>0</td>\n",
              "      <td>0</td>\n",
              "    </tr>\n",
              "    <tr>\n",
              "      <th>218</th>\n",
              "      <td>Notebook Acer Aspire 3 A315-23-R291 Ryzen 5 8G...</td>\n",
              "      <td>0</td>\n",
              "      <td>0</td>\n",
              "      <td>0</td>\n",
              "    </tr>\n",
              "    <tr>\n",
              "      <th>205</th>\n",
              "      <td>Notebook Dell Inspiron 3501 - Intel i3 1005G1,...</td>\n",
              "      <td>0</td>\n",
              "      <td>0</td>\n",
              "      <td>0</td>\n",
              "    </tr>\n",
              "    <tr>\n",
              "      <th>229</th>\n",
              "      <td>Notebook Acer A514 i5 1035G1, RAM 12GB, SSD 25...</td>\n",
              "      <td>0</td>\n",
              "      <td>0</td>\n",
              "      <td>0</td>\n",
              "    </tr>\n",
              "  </tbody>\n",
              "</table>\n",
              "<p>500 rows × 4 columns</p>\n",
              "</div>"
            ],
            "text/plain": [
              "                                             Notebooks  ... valor_parcelas\n",
              "37   Notebook Touch Lenovo Yoga C940 i7-1065G 8GB 2...  ...         999.90\n",
              "375  Notebook Gamer Dell G15-i1100-M50PB 15.6&quot;...  ...         997.90\n",
              "103  Notebook Dell Xps 9300 I7 10 Gen 16gb 1tb Ssd ...  ...         994.00\n",
              "76   NOTEBOOK DELL XPS 9300 I7 10th Geração 16gb 1t...  ...         994.00\n",
              "221  Notebook Acer Aspire 5 AN515-54-528V Intel Cor...  ...         990.00\n",
              "..                                                 ...  ...            ...\n",
              "224  Notebook Dell i15-3501 - Tela 15.6, Intel i5 1...  ...              0\n",
              "79   Notebook Lenovo Ideapad S145 - Tela 15.6 HD, I...  ...              0\n",
              "218  Notebook Acer Aspire 3 A315-23-R291 Ryzen 5 8G...  ...              0\n",
              "205  Notebook Dell Inspiron 3501 - Intel i3 1005G1,...  ...              0\n",
              "229  Notebook Acer A514 i5 1035G1, RAM 12GB, SSD 25...  ...              0\n",
              "\n",
              "[500 rows x 4 columns]"
            ]
          },
          "metadata": {},
          "execution_count": 264
        }
      ]
    },
    {
      "cell_type": "markdown",
      "metadata": {
        "id": "Res7bceT9hkP"
      },
      "source": [
        "# Convertendo a coluna preço para o tipo float"
      ]
    },
    {
      "cell_type": "code",
      "metadata": {
        "id": "AxVTG3B0hm9Z"
      },
      "source": [
        "\n",
        "df['preco'] = df['preco'].astype(float, errors = 'raise')\n",
        "df['valor_parcelas'] = df['valor_parcelas'].astype(float, errors = 'raise')"
      ],
      "execution_count": 265,
      "outputs": []
    },
    {
      "cell_type": "code",
      "metadata": {
        "colab": {
          "base_uri": "https://localhost:8080/"
        },
        "id": "OuYUudOPkkKf",
        "outputId": "18da9c8e-4d3a-4173-ec58-4522090d4a7b"
      },
      "source": [
        "df.info()"
      ],
      "execution_count": 266,
      "outputs": [
        {
          "output_type": "stream",
          "name": "stdout",
          "text": [
            "<class 'pandas.core.frame.DataFrame'>\n",
            "Int64Index: 500 entries, 37 to 229\n",
            "Data columns (total 4 columns):\n",
            " #   Column          Non-Null Count  Dtype  \n",
            "---  ------          --------------  -----  \n",
            " 0   Notebooks       500 non-null    object \n",
            " 1   preco           500 non-null    float64\n",
            " 2   parcelas        500 non-null    int64  \n",
            " 3   valor_parcelas  500 non-null    float64\n",
            "dtypes: float64(2), int64(1), object(1)\n",
            "memory usage: 19.5+ KB\n"
          ]
        }
      ]
    },
    {
      "cell_type": "code",
      "metadata": {
        "colab": {
          "base_uri": "https://localhost:8080/",
          "height": 0
        },
        "id": "QdEEDsGLjPAH",
        "outputId": "e764009e-508d-4124-f7c7-25d2b9a250c8"
      },
      "source": [
        "df2 = df.boxplot('preco')"
      ],
      "execution_count": 267,
      "outputs": [
        {
          "output_type": "display_data",
          "data": {
            "image/png": "[encoded data removed]",
            "text/plain": [
              "<Figure size 432x288 with 1 Axes>"
            ]
          },
          "metadata": {
            "needs_background": "light"
          }
        }
      ]
    },
    {
      "cell_type": "markdown",
      "metadata": {
        "id": "iS0wmoLk9zYb"
      },
      "source": [
        "# Tratamento estatístico"
      ]
    },
    {
      "cell_type": "code",
      "metadata": {
        "colab": {
          "base_uri": "https://localhost:8080/"
        },
        "id": "6s4hP76KHSbU",
        "outputId": "b202a114-580d-4ab2-c30c-e1f61d5ac98d"
      },
      "source": [
        "\t\n",
        "df['preco'].describe()"
      ],
      "execution_count": 268,
      "outputs": [
        {
          "output_type": "execute_result",
          "data": {
            "text/plain": [
              "count      500.000000\n",
              "mean      9717.356880\n",
              "std       8651.071885\n",
              "min          0.000000\n",
              "25%       5199.000000\n",
              "50%       6199.000000\n",
              "75%       8999.805000\n",
              "max      49200.000000\n",
              "Name: preco, dtype: float64"
            ]
          },
          "metadata": {},
          "execution_count": 268
        }
      ]
    },
    {
      "cell_type": "code",
      "metadata": {
        "id": "Aixzp5s5kPE3"
      },
      "source": [
        "preco = df['preco']"
      ],
      "execution_count": 269,
      "outputs": []
    },
    {
      "cell_type": "markdown",
      "metadata": {
        "id": "tad99sq6-zOE"
      },
      "source": [
        "## Primeiro e terceiro quartil"
      ]
    },
    {
      "cell_type": "code",
      "metadata": {
        "id": "C838j2v_-KxZ"
      },
      "source": [
        "q1 = preco.quantile(.25)\n",
        "q3 = preco.quantile(.75)"
      ],
      "execution_count": 270,
      "outputs": []
    },
    {
      "cell_type": "markdown",
      "metadata": {
        "id": "FJNh9NIU-flL"
      },
      "source": [
        "## Intervalo interquatile"
      ]
    },
    {
      "cell_type": "code",
      "metadata": {
        "id": "pWMQOLpN-gJS"
      },
      "source": [
        "iiq = q3 - q1"
      ],
      "execution_count": 271,
      "outputs": []
    },
    {
      "cell_type": "markdown",
      "metadata": {
        "id": "tBeS1g_h-3XQ"
      },
      "source": [
        "## Limites"
      ]
    },
    {
      "cell_type": "code",
      "metadata": {
        "id": "pUi6UtXG-4j7"
      },
      "source": [
        "lim_inf = q1 - 1.5 * iiq\n",
        "lim_sup = q3 + 1.5 * iiq"
      ],
      "execution_count": 272,
      "outputs": []
    },
    {
      "cell_type": "markdown",
      "metadata": {
        "id": "4vkwpRe1_Bkt"
      },
      "source": [
        "### Selecionando dados no intervalo"
      ]
    },
    {
      "cell_type": "code",
      "metadata": {
        "id": "ziLAOYMs-8cr"
      },
      "source": [
        "selecao = (preco >= lim_inf) & (preco <= lim_sup)\n",
        "\n",
        "df_new = df[selecao]"
      ],
      "execution_count": 273,
      "outputs": []
    },
    {
      "cell_type": "code",
      "metadata": {
        "colab": {
          "base_uri": "https://localhost:8080/",
          "height": 282
        },
        "id": "DI6FWfeD_FDk",
        "outputId": "200a0638-00ab-43cf-bea6-a72363f0097c"
      },
      "source": [
        "df_new.boxplot(['preco'])"
      ],
      "execution_count": 274,
      "outputs": [
        {
          "output_type": "execute_result",
          "data": {
            "text/plain": [
              "<matplotlib.axes._subplots.AxesSubplot at 0x7f2d6319c690>"
            ]
          },
          "metadata": {},
          "execution_count": 274
        },
        {
          "output_type": "display_data",
          "data": {
            "image/png": "[encoded data removed]",
            "text/plain": [
              "<Figure size 432x288 with 1 Axes>"
            ]
          },
          "metadata": {
            "needs_background": "light"
          }
        }
      ]
    },
    {
      "cell_type": "markdown",
      "metadata": {
        "id": "KXVCNPR1_aPv"
      },
      "source": [
        "## Histograma"
      ]
    },
    {
      "cell_type": "code",
      "metadata": {
        "colab": {
          "base_uri": "https://localhost:8080/",
          "height": 315
        },
        "id": "q8hP_A8u_cZF",
        "outputId": "a042278d-bcc6-49f5-c3f8-0bb9c5575769"
      },
      "source": [
        "df_new.hist(['preco'])"
      ],
      "execution_count": 275,
      "outputs": [
        {
          "output_type": "execute_result",
          "data": {
            "text/plain": [
              "array([[<matplotlib.axes._subplots.AxesSubplot object at 0x7f2d63100050>]],\n",
              "      dtype=object)"
            ]
          },
          "metadata": {},
          "execution_count": 275
        },
        {
          "output_type": "display_data",
          "data": {
            "image/png": "[encoded data removed]",
            "text/plain": [
              "<Figure size 432x288 with 1 Axes>"
            ]
          },
          "metadata": {
            "needs_background": "light"
          }
        }
      ]
    },
    {
      "cell_type": "code",
      "metadata": {
        "id": "bKgqTjJP_c0V"
      },
      "source": [
        ""
      ],
      "execution_count": 275,
      "outputs": []
    },
    {
      "cell_type": "markdown",
      "metadata": {
        "id": "jdTPpx6MDhgR"
      },
      "source": [
        "## Contagem de notebooks com valor 0 (indiponível)\n",
        "\n",
        "---\n",
        "\n"
      ]
    },
    {
      "cell_type": "code",
      "metadata": {
        "id": "EVknlmchDlHj"
      },
      "source": [
        "selecao = df['preco'] == 0 \n",
        "preco0 = df[selecao].shape[0]"
      ],
      "execution_count": 276,
      "outputs": []
    },
    {
      "cell_type": "code",
      "metadata": {
        "colab": {
          "base_uri": "https://localhost:8080/"
        },
        "id": "czMgNBUvIPli",
        "outputId": "c5921f92-1662-41dc-8ace-eaab14eab0a0"
      },
      "source": [
        "preco0 # Notebooks com o preço 0"
      ],
      "execution_count": 277,
      "outputs": [
        {
          "output_type": "execute_result",
          "data": {
            "text/plain": [
              "14"
            ]
          },
          "metadata": {},
          "execution_count": 277
        }
      ]
    },
    {
      "cell_type": "markdown",
      "metadata": {
        "id": "bgTbuezdJXIo"
      },
      "source": [
        "# Tratameno estatístico (desprezando os notebooks indisponíveis)"
      ]
    },
    {
      "cell_type": "code",
      "metadata": {
        "id": "MMlXKxShIRJk"
      },
      "source": [
        "df2 = df.loc[df['preco'] != 0]"
      ],
      "execution_count": 278,
      "outputs": []
    },
    {
      "cell_type": "code",
      "metadata": {
        "colab": {
          "base_uri": "https://localhost:8080/",
          "height": 297
        },
        "id": "RsimIOxFJnfk",
        "outputId": "3aa7e2d4-f1eb-4234-a615-31ac1dc80b23"
      },
      "source": [
        "df2.describe()"
      ],
      "execution_count": 279,
      "outputs": [
        {
          "output_type": "execute_result",
          "data": {
            "text/html": [
              "<div>\n",
              "<style scoped>\n",
              "    .dataframe tbody tr th:only-of-type {\n",
              "        vertical-align: middle;\n",
              "    }\n",
              "\n",
              "    .dataframe tbody tr th {\n",
              "        vertical-align: top;\n",
              "    }\n",
              "\n",
              "    .dataframe thead th {\n",
              "        text-align: right;\n",
              "    }\n",
              "</style>\n",
              "<table border=\"1\" class=\"dataframe\">\n",
              "  <thead>\n",
              "    <tr style=\"text-align: right;\">\n",
              "      <th></th>\n",
              "      <th>preco</th>\n",
              "      <th>parcelas</th>\n",
              "      <th>valor_parcelas</th>\n",
              "    </tr>\n",
              "  </thead>\n",
              "  <tbody>\n",
              "    <tr>\n",
              "      <th>count</th>\n",
              "      <td>486.000000</td>\n",
              "      <td>486.0</td>\n",
              "      <td>486.000000</td>\n",
              "    </tr>\n",
              "    <tr>\n",
              "      <th>mean</th>\n",
              "      <td>9997.280741</td>\n",
              "      <td>10.0</td>\n",
              "      <td>999.728025</td>\n",
              "    </tr>\n",
              "    <tr>\n",
              "      <th>std</th>\n",
              "      <td>8613.777182</td>\n",
              "      <td>0.0</td>\n",
              "      <td>861.377666</td>\n",
              "    </tr>\n",
              "    <tr>\n",
              "      <th>min</th>\n",
              "      <td>3864.230000</td>\n",
              "      <td>10.0</td>\n",
              "      <td>386.420000</td>\n",
              "    </tr>\n",
              "    <tr>\n",
              "      <th>25%</th>\n",
              "      <td>5301.900000</td>\n",
              "      <td>10.0</td>\n",
              "      <td>530.190000</td>\n",
              "    </tr>\n",
              "    <tr>\n",
              "      <th>50%</th>\n",
              "      <td>6299.000000</td>\n",
              "      <td>10.0</td>\n",
              "      <td>629.900000</td>\n",
              "    </tr>\n",
              "    <tr>\n",
              "      <th>75%</th>\n",
              "      <td>9465.752500</td>\n",
              "      <td>10.0</td>\n",
              "      <td>946.575000</td>\n",
              "    </tr>\n",
              "    <tr>\n",
              "      <th>max</th>\n",
              "      <td>49200.000000</td>\n",
              "      <td>10.0</td>\n",
              "      <td>4920.000000</td>\n",
              "    </tr>\n",
              "  </tbody>\n",
              "</table>\n",
              "</div>"
            ],
            "text/plain": [
              "              preco  parcelas  valor_parcelas\n",
              "count    486.000000     486.0      486.000000\n",
              "mean    9997.280741      10.0      999.728025\n",
              "std     8613.777182       0.0      861.377666\n",
              "min     3864.230000      10.0      386.420000\n",
              "25%     5301.900000      10.0      530.190000\n",
              "50%     6299.000000      10.0      629.900000\n",
              "75%     9465.752500      10.0      946.575000\n",
              "max    49200.000000      10.0     4920.000000"
            ]
          },
          "metadata": {},
          "execution_count": 279
        }
      ]
    },
    {
      "cell_type": "code",
      "metadata": {
        "id": "l46PYVQuJoXD"
      },
      "source": [
        "preco2 = df2['preco']"
      ],
      "execution_count": 280,
      "outputs": []
    },
    {
      "cell_type": "markdown",
      "metadata": {
        "id": "PNa5jrn6PaD-"
      },
      "source": [
        "## Primeiro e terceiro quartil"
      ]
    },
    {
      "cell_type": "code",
      "metadata": {
        "id": "yz-PGPOrPTJS"
      },
      "source": [
        "q1_2 = preco2.quantile(.25)\n",
        "q3_2 = preco2.quantile(.75)"
      ],
      "execution_count": 281,
      "outputs": []
    },
    {
      "cell_type": "markdown",
      "metadata": {
        "id": "9nWNwi4kPg9p"
      },
      "source": [
        "## Intervalo interquatile"
      ]
    },
    {
      "cell_type": "code",
      "metadata": {
        "id": "rWNeKs5gPi3w"
      },
      "source": [
        "iiq2 = q3_2 - q1_2"
      ],
      "execution_count": 282,
      "outputs": []
    },
    {
      "cell_type": "markdown",
      "metadata": {
        "id": "gc7SKrYJPwIO"
      },
      "source": [
        "## Limites"
      ]
    },
    {
      "cell_type": "code",
      "metadata": {
        "id": "2rLRYrRXPxJv"
      },
      "source": [
        "lim_inf2 = q1_2 - 1.5 * iiq2\n",
        "lim_sup2 = q3_2 + 1.5 * iiq2"
      ],
      "execution_count": 283,
      "outputs": []
    },
    {
      "cell_type": "markdown",
      "metadata": {
        "id": "f07rnEn4P6Jn"
      },
      "source": [
        "## Selecionando dados do intervalo"
      ]
    },
    {
      "cell_type": "code",
      "metadata": {
        "id": "xbu1Nyj8P9RI"
      },
      "source": [
        "selecao2 = (preco2 >= lim_inf) & (preco2 <= lim_sup)\n",
        "\n",
        "df2_new = df2[selecao2]"
      ],
      "execution_count": 284,
      "outputs": []
    },
    {
      "cell_type": "code",
      "metadata": {
        "colab": {
          "base_uri": "https://localhost:8080/",
          "height": 282
        },
        "id": "I5qipiIFQFoH",
        "outputId": "ace01e0c-bdec-448c-ade2-9592892cf7eb"
      },
      "source": [
        "df2_new.boxplot(['preco'])"
      ],
      "execution_count": 288,
      "outputs": [
        {
          "output_type": "execute_result",
          "data": {
            "text/plain": [
              "<matplotlib.axes._subplots.AxesSubplot at 0x7f2d62fd66d0>"
            ]
          },
          "metadata": {},
          "execution_count": 288
        },
        {
          "output_type": "display_data",
          "data": {
            "image/png": "[encoded data removed]",
            "text/plain": [
              "<Figure size 432x288 with 1 Axes>"
            ]
          },
          "metadata": {
            "needs_background": "light"
          }
        }
      ]
    },
    {
      "cell_type": "markdown",
      "metadata": {
        "id": "YCDvz10WQKyr"
      },
      "source": [
        "## Histograma"
      ]
    },
    {
      "cell_type": "code",
      "metadata": {
        "colab": {
          "base_uri": "https://localhost:8080/",
          "height": 315
        },
        "id": "FTwWTpP2QMuC",
        "outputId": "8daca04b-3584-4715-bf9f-b8026afe22b9"
      },
      "source": [
        "df2_new.hist(['preco'])"
      ],
      "execution_count": 289,
      "outputs": [
        {
          "output_type": "execute_result",
          "data": {
            "text/plain": [
              "array([[<matplotlib.axes._subplots.AxesSubplot object at 0x7f2d62f5a490>]],\n",
              "      dtype=object)"
            ]
          },
          "metadata": {},
          "execution_count": 289
        },
        {
          "output_type": "display_data",
          "data": {
            "image/png": "[encoded data removed]",
            "text/plain": [
              "<Figure size 432x288 with 1 Axes>"
            ]
          },
          "metadata": {
            "needs_background": "light"
          }
        }
      ]
    }
  ]
}