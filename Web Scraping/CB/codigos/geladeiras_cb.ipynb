{
  "nbformat": 4,
  "nbformat_minor": 0,
  "metadata": {
    "colab": {
      "name": "Geladeiras casas bahia.ipynb",
      "provenance": []
    },
    "kernelspec": {
      "name": "python3",
      "display_name": "Python 3"
    },
    "language_info": {
      "name": "python"
    }
  },
  "cells": [
    {
      "cell_type": "markdown",
      "metadata": {
        "id": "I8JaZOLeS8UR"
      },
      "source": [
        "# Importando Bibliotecas"
      ]
    },
    {
      "cell_type": "code",
      "metadata": {
        "id": "w67--NDpS4Po"
      },
      "source": [
        "%matplotlib inline\n",
        "import pandas as pd\n",
        "import matplotlib.pyplot as plt"
      ],
      "execution_count": 215,
      "outputs": []
    },
    {
      "cell_type": "markdown",
      "metadata": {
        "id": "ST0toR1cWLSa"
      },
      "source": [
        "## Importando os dados"
      ]
    },
    {
      "cell_type": "code",
      "metadata": {
        "id": "wb0K8t7anJMe"
      },
      "source": [
        "df = pd.read_csv('geladeiras_final.csv', sep=';')"
      ],
      "execution_count": 216,
      "outputs": []
    },
    {
      "cell_type": "markdown",
      "metadata": {
        "id": "5rvswtDCmSGw"
      },
      "source": [
        "## Selecionando somente geladeira/refrigerador"
      ]
    },
    {
      "cell_type": "code",
      "metadata": {
        "id": "4rACtSXPeH-h"
      },
      "source": [
        "lista = []\n",
        "for geladeira in df['Descrição'].unique():\n",
        "  if geladeira.split()[0] == 'Geladeira/Refrigerador' or geladeira.split()[0] == 'Geladeira' or geladeira.split()[0] == 'Refrigerador':\n",
        "    lista.append(geladeira)\n"
      ],
      "execution_count": 217,
      "outputs": []
    },
    {
      "cell_type": "code",
      "metadata": {
        "id": "c1sTvmklmmaS"
      },
      "source": [
        "selecao = df['Descrição'].isin(lista)\n",
        "df = df[selecao]"
      ],
      "execution_count": 218,
      "outputs": []
    },
    {
      "cell_type": "code",
      "metadata": {
        "colab": {
          "base_uri": "https://localhost:8080/",
          "height": 419
        },
        "id": "aWO7530CmyIp",
        "outputId": "68e4ad91-0ece-4873-d625-707f817f12c3"
      },
      "source": [
        "df"
      ],
      "execution_count": 219,
      "outputs": [
        {
          "output_type": "execute_result",
          "data": {
            "text/html": [
              "<div>\n",
              "<style scoped>\n",
              "    .dataframe tbody tr th:only-of-type {\n",
              "        vertical-align: middle;\n",
              "    }\n",
              "\n",
              "    .dataframe tbody tr th {\n",
              "        vertical-align: top;\n",
              "    }\n",
              "\n",
              "    .dataframe thead th {\n",
              "        text-align: right;\n",
              "    }\n",
              "</style>\n",
              "<table border=\"1\" class=\"dataframe\">\n",
              "  <thead>\n",
              "    <tr style=\"text-align: right;\">\n",
              "      <th></th>\n",
              "      <th>Descrição</th>\n",
              "      <th>Nota</th>\n",
              "      <th>Nº de avaliadores</th>\n",
              "      <th>Preço</th>\n",
              "    </tr>\n",
              "  </thead>\n",
              "  <tbody>\n",
              "    <tr>\n",
              "      <th>0</th>\n",
              "      <td>Refrigerador Electrolux Duplex DC35A 260L - Br...</td>\n",
              "      <td>4.5</td>\n",
              "      <td>3147</td>\n",
              "      <td>R$ 1.999,00</td>\n",
              "    </tr>\n",
              "    <tr>\n",
              "      <th>1</th>\n",
              "      <td>Refrigerador Consul CRD37EB com Prateleiras Re...</td>\n",
              "      <td>5.0</td>\n",
              "      <td>4416</td>\n",
              "      <td>R$ 1.999,00</td>\n",
              "    </tr>\n",
              "    <tr>\n",
              "      <th>2</th>\n",
              "      <td>Refrigerador Consul CRM56HB Frost Free com Esp...</td>\n",
              "      <td>5.0</td>\n",
              "      <td>722</td>\n",
              "      <td>R$ 3.299,00</td>\n",
              "    </tr>\n",
              "    <tr>\n",
              "      <th>3</th>\n",
              "      <td>Refrigerador Consul CRM50HK Frost Free com Esp...</td>\n",
              "      <td>5.0</td>\n",
              "      <td>361</td>\n",
              "      <td>R$ 3.148,00</td>\n",
              "    </tr>\n",
              "    <tr>\n",
              "      <th>4</th>\n",
              "      <td>Refrigerador Brastemp Inverse BRE57AK Frost Fr...</td>\n",
              "      <td>5.0</td>\n",
              "      <td>1391</td>\n",
              "      <td>R$ 4.349,00</td>\n",
              "    </tr>\n",
              "    <tr>\n",
              "      <th>...</th>\n",
              "      <td>...</td>\n",
              "      <td>...</td>\n",
              "      <td>...</td>\n",
              "      <td>...</td>\n",
              "    </tr>\n",
              "    <tr>\n",
              "      <th>932</th>\n",
              "      <td>Geladeira Comercial 4p Inox 430 700 L Frilux R...</td>\n",
              "      <td>0.0</td>\n",
              "      <td>0</td>\n",
              "      <td>R$ 6.250,62</td>\n",
              "    </tr>\n",
              "    <tr>\n",
              "      <th>933</th>\n",
              "      <td>Refrigerador Expositor Vertical Para Bebidas 8...</td>\n",
              "      <td>0.0</td>\n",
              "      <td>0</td>\n",
              "      <td>R$ 2.847,39</td>\n",
              "    </tr>\n",
              "    <tr>\n",
              "      <th>936</th>\n",
              "      <td>Refrigerador Conservador Conservex Rcv 570 Litros</td>\n",
              "      <td>0.0</td>\n",
              "      <td>0</td>\n",
              "      <td>R$ 5.103,00</td>\n",
              "    </tr>\n",
              "    <tr>\n",
              "      <th>938</th>\n",
              "      <td>Geladeira 6 portas 1400 Litros RF067 Mini Câma...</td>\n",
              "      <td>0.0</td>\n",
              "      <td>0</td>\n",
              "      <td>R$ 10.572,30</td>\n",
              "    </tr>\n",
              "    <tr>\n",
              "      <th>939</th>\n",
              "      <td>Refrigerador porta de vidro 572l vb52ah optima...</td>\n",
              "      <td>0.0</td>\n",
              "      <td>0</td>\n",
              "      <td>R$ 5.466,89</td>\n",
              "    </tr>\n",
              "  </tbody>\n",
              "</table>\n",
              "<p>893 rows × 4 columns</p>\n",
              "</div>"
            ],
            "text/plain": [
              "                                             Descrição  ...         Preço\n",
              "0    Refrigerador Electrolux Duplex DC35A 260L - Br...  ...   R$ 1.999,00\n",
              "1    Refrigerador Consul CRD37EB com Prateleiras Re...  ...   R$ 1.999,00\n",
              "2    Refrigerador Consul CRM56HB Frost Free com Esp...  ...   R$ 3.299,00\n",
              "3    Refrigerador Consul CRM50HK Frost Free com Esp...  ...   R$ 3.148,00\n",
              "4    Refrigerador Brastemp Inverse BRE57AK Frost Fr...  ...   R$ 4.349,00\n",
              "..                                                 ...  ...           ...\n",
              "932  Geladeira Comercial 4p Inox 430 700 L Frilux R...  ...   R$ 6.250,62\n",
              "933  Refrigerador Expositor Vertical Para Bebidas 8...  ...   R$ 2.847,39\n",
              "936  Refrigerador Conservador Conservex Rcv 570 Litros  ...   R$ 5.103,00\n",
              "938  Geladeira 6 portas 1400 Litros RF067 Mini Câma...  ...  R$ 10.572,30\n",
              "939  Refrigerador porta de vidro 572l vb52ah optima...  ...   R$ 5.466,89\n",
              "\n",
              "[893 rows x 4 columns]"
            ]
          },
          "metadata": {},
          "execution_count": 219
        }
      ]
    },
    {
      "cell_type": "markdown",
      "metadata": {
        "id": "CcXamZd9VR9R"
      },
      "source": [
        "# Selecionando os primeiros 500 resultados"
      ]
    },
    {
      "cell_type": "code",
      "metadata": {
        "id": "eR1brIJpUqsO",
        "colab": {
          "base_uri": "https://localhost:8080/"
        },
        "outputId": "75cc1342-8236-46c4-b2ae-e5c83563094c"
      },
      "source": [
        "df = df.loc[0:500]\n",
        "df.shape[0]"
      ],
      "execution_count": 220,
      "outputs": [
        {
          "output_type": "execute_result",
          "data": {
            "text/plain": [
              "500"
            ]
          },
          "metadata": {},
          "execution_count": 220
        }
      ]
    },
    {
      "cell_type": "markdown",
      "metadata": {
        "id": "yhIPBIWKoBpM"
      },
      "source": [
        "# Organizando pelo preço"
      ]
    },
    {
      "cell_type": "code",
      "metadata": {
        "id": "MM6dnmv8oEDJ"
      },
      "source": [
        "df = df.sort_values(by='Preço', ascending=False)  "
      ],
      "execution_count": 221,
      "outputs": []
    },
    {
      "cell_type": "markdown",
      "metadata": {
        "id": "eHynTjsur0N_"
      },
      "source": [
        "## Retirando o cifrão"
      ]
    },
    {
      "cell_type": "code",
      "metadata": {
        "id": "OZTnsQ2CoLKf"
      },
      "source": [
        "def tirar_cifrao(nome):\n",
        "    nome = nome.replace('R$', '')\n",
        "    return nome\n"
      ],
      "execution_count": 222,
      "outputs": []
    },
    {
      "cell_type": "code",
      "metadata": {
        "id": "N7mcmhzfo0Ji"
      },
      "source": [
        "df['Preço'] = df['Preço'].apply(tirar_cifrao)"
      ],
      "execution_count": 223,
      "outputs": []
    },
    {
      "cell_type": "code",
      "metadata": {
        "id": "9AaE6eGAsL7b"
      },
      "source": [
        "lista3 = []\n",
        "for i in df['Preço']:\n",
        "  if i == 'Indisponível':\n",
        "    lista3.append(0)\n",
        "  else:\n",
        "    lista3.append(i)"
      ],
      "execution_count": 224,
      "outputs": []
    },
    {
      "cell_type": "code",
      "metadata": {
        "id": "4DGbUWlEtu3N"
      },
      "source": [
        "selecao = df['Preço'].isin(lista3)\n",
        "df = df[selecao]"
      ],
      "execution_count": 225,
      "outputs": []
    },
    {
      "cell_type": "markdown",
      "metadata": {
        "id": "GFfx17vnw8fr"
      },
      "source": [
        "## Ajustando a coluna preço"
      ]
    },
    {
      "cell_type": "code",
      "metadata": {
        "colab": {
          "base_uri": "https://localhost:8080/",
          "height": 419
        },
        "id": "bAl5ecd0vgA6",
        "outputId": "7c35bd4f-7666-47e9-cefc-f6fcb086a6b3"
      },
      "source": [
        "df"
      ],
      "execution_count": 226,
      "outputs": [
        {
          "output_type": "execute_result",
          "data": {
            "text/html": [
              "<div>\n",
              "<style scoped>\n",
              "    .dataframe tbody tr th:only-of-type {\n",
              "        vertical-align: middle;\n",
              "    }\n",
              "\n",
              "    .dataframe tbody tr th {\n",
              "        vertical-align: top;\n",
              "    }\n",
              "\n",
              "    .dataframe thead th {\n",
              "        text-align: right;\n",
              "    }\n",
              "</style>\n",
              "<table border=\"1\" class=\"dataframe\">\n",
              "  <thead>\n",
              "    <tr style=\"text-align: right;\">\n",
              "      <th></th>\n",
              "      <th>Descrição</th>\n",
              "      <th>Nota</th>\n",
              "      <th>Nº de avaliadores</th>\n",
              "      <th>Preço</th>\n",
              "    </tr>\n",
              "  </thead>\n",
              "  <tbody>\n",
              "    <tr>\n",
              "      <th>95</th>\n",
              "      <td>Geladeira Refrigerador Samsung 501 Litros 2 Po...</td>\n",
              "      <td>0.0</td>\n",
              "      <td>0</td>\n",
              "      <td>8.999,00</td>\n",
              "    </tr>\n",
              "    <tr>\n",
              "      <th>462</th>\n",
              "      <td>Refrigerador Inverse Frost Free BRY59BE 3 Port...</td>\n",
              "      <td>0.0</td>\n",
              "      <td>0</td>\n",
              "      <td>8.479,00</td>\n",
              "    </tr>\n",
              "    <tr>\n",
              "      <th>393</th>\n",
              "      <td>Geladeira Electrolux DF82X Infinity 553 Litros...</td>\n",
              "      <td>0.0</td>\n",
              "      <td>0</td>\n",
              "      <td>7.581,90</td>\n",
              "    </tr>\n",
              "    <tr>\n",
              "      <th>226</th>\n",
              "      <td>Geladeira Evolution RT38 Inverter Duplex 385L ...</td>\n",
              "      <td>4.0</td>\n",
              "      <td>1</td>\n",
              "      <td>7.519,00</td>\n",
              "    </tr>\n",
              "    <tr>\n",
              "      <th>224</th>\n",
              "      <td>Geladeira / Refrigerador Frost Free Brastemp S...</td>\n",
              "      <td>0.0</td>\n",
              "      <td>0</td>\n",
              "      <td>7.381,93</td>\n",
              "    </tr>\n",
              "    <tr>\n",
              "      <th>...</th>\n",
              "      <td>...</td>\n",
              "      <td>...</td>\n",
              "      <td>...</td>\n",
              "      <td>...</td>\n",
              "    </tr>\n",
              "    <tr>\n",
              "      <th>101</th>\n",
              "      <td>Refrigerador Cycle Defrost Electrolux RE31, 24...</td>\n",
              "      <td>5.0</td>\n",
              "      <td>2</td>\n",
              "      <td>1.799,00</td>\n",
              "    </tr>\n",
              "    <tr>\n",
              "      <th>142</th>\n",
              "      <td>Geladeira Refrigerador Consul 1 Porta Degelo S...</td>\n",
              "      <td>4.0</td>\n",
              "      <td>1</td>\n",
              "      <td>1.750,00</td>\n",
              "    </tr>\n",
              "    <tr>\n",
              "      <th>191</th>\n",
              "      <td>Geladeira Esmaltec ROC31 Branco 1 Porta 245 Li...</td>\n",
              "      <td>0.0</td>\n",
              "      <td>0</td>\n",
              "      <td>1.729,00</td>\n",
              "    </tr>\n",
              "    <tr>\n",
              "      <th>21</th>\n",
              "      <td>Refrigerador Electrolux Degelo Prático 240L Cy...</td>\n",
              "      <td>5.0</td>\n",
              "      <td>8</td>\n",
              "      <td>1.629,00</td>\n",
              "    </tr>\n",
              "    <tr>\n",
              "      <th>6</th>\n",
              "      <td>Refrigerador Electrolux Cycle Defrost 240 Litr...</td>\n",
              "      <td>5.0</td>\n",
              "      <td>35</td>\n",
              "      <td>1.499,00</td>\n",
              "    </tr>\n",
              "  </tbody>\n",
              "</table>\n",
              "<p>480 rows × 4 columns</p>\n",
              "</div>"
            ],
            "text/plain": [
              "                                             Descrição  ...      Preço\n",
              "95   Geladeira Refrigerador Samsung 501 Litros 2 Po...  ...   8.999,00\n",
              "462  Refrigerador Inverse Frost Free BRY59BE 3 Port...  ...   8.479,00\n",
              "393  Geladeira Electrolux DF82X Infinity 553 Litros...  ...   7.581,90\n",
              "226  Geladeira Evolution RT38 Inverter Duplex 385L ...  ...   7.519,00\n",
              "224  Geladeira / Refrigerador Frost Free Brastemp S...  ...   7.381,93\n",
              "..                                                 ...  ...        ...\n",
              "101  Refrigerador Cycle Defrost Electrolux RE31, 24...  ...   1.799,00\n",
              "142  Geladeira Refrigerador Consul 1 Porta Degelo S...  ...   1.750,00\n",
              "191  Geladeira Esmaltec ROC31 Branco 1 Porta 245 Li...  ...   1.729,00\n",
              "21   Refrigerador Electrolux Degelo Prático 240L Cy...  ...   1.629,00\n",
              "6    Refrigerador Electrolux Cycle Defrost 240 Litr...  ...   1.499,00\n",
              "\n",
              "[480 rows x 4 columns]"
            ]
          },
          "metadata": {},
          "execution_count": 226
        }
      ]
    },
    {
      "cell_type": "code",
      "metadata": {
        "id": "DbMGf7kLrncZ"
      },
      "source": [
        "df['Preço'] = df['Preço'].str.replace('.','')\n",
        "df['Preço'] = df['Preço'].str.replace(',','.')\n",
        "df['Preço'] = df['Preço'].astype(float, errors = 'raise')"
      ],
      "execution_count": 227,
      "outputs": []
    },
    {
      "cell_type": "code",
      "metadata": {
        "colab": {
          "base_uri": "https://localhost:8080/"
        },
        "id": "aQsG28edvaQd",
        "outputId": "e4f4a016-ace9-4b94-f008-314501c09491"
      },
      "source": [
        "df.info()"
      ],
      "execution_count": 228,
      "outputs": [
        {
          "output_type": "stream",
          "name": "stdout",
          "text": [
            "<class 'pandas.core.frame.DataFrame'>\n",
            "Int64Index: 480 entries, 95 to 6\n",
            "Data columns (total 4 columns):\n",
            " #   Column             Non-Null Count  Dtype  \n",
            "---  ------             --------------  -----  \n",
            " 0   Descrição          480 non-null    object \n",
            " 1   Nota               480 non-null    float64\n",
            " 2   Nº de avaliadores  480 non-null    int64  \n",
            " 3   Preço              480 non-null    float64\n",
            "dtypes: float64(2), int64(1), object(1)\n",
            "memory usage: 18.8+ KB\n"
          ]
        }
      ]
    },
    {
      "cell_type": "code",
      "metadata": {
        "colab": {
          "base_uri": "https://localhost:8080/",
          "height": 265
        },
        "id": "eW7JEwRcxLsa",
        "outputId": "97b7641a-979a-4396-fa9b-4686c286f434"
      },
      "source": [
        "df2 = df.boxplot('Preço')"
      ],
      "execution_count": 229,
      "outputs": [
        {
          "output_type": "display_data",
          "data": {
            "image/png": "[encoded data removed]",
            "text/plain": [
              "<Figure size 432x288 with 1 Axes>"
            ]
          },
          "metadata": {
            "needs_background": "light"
          }
        }
      ]
    },
    {
      "cell_type": "markdown",
      "metadata": {
        "id": "rTC_EbhTxZsa"
      },
      "source": [
        "# Tratamento estatístico"
      ]
    },
    {
      "cell_type": "code",
      "metadata": {
        "colab": {
          "base_uri": "https://localhost:8080/"
        },
        "id": "nOg6HHN_xNvX",
        "outputId": "af03ac47-2356-44da-e11c-2bfaa0a27722"
      },
      "source": [
        "df['Preço'].describe()"
      ],
      "execution_count": 230,
      "outputs": [
        {
          "output_type": "execute_result",
          "data": {
            "text/plain": [
              "count      480.000000\n",
              "mean      4067.029958\n",
              "std       2399.718034\n",
              "min       1499.000000\n",
              "25%       2949.000000\n",
              "50%       3599.945000\n",
              "75%       4469.000000\n",
              "max      26999.000000\n",
              "Name: Preço, dtype: float64"
            ]
          },
          "metadata": {},
          "execution_count": 230
        }
      ]
    },
    {
      "cell_type": "code",
      "metadata": {
        "id": "V-9Za6lIxgwe"
      },
      "source": [
        "preco = df['Preço']"
      ],
      "execution_count": 231,
      "outputs": []
    },
    {
      "cell_type": "markdown",
      "metadata": {
        "id": "0DkeftP5yUy_"
      },
      "source": [
        "## Primeiro e terceiro quartis"
      ]
    },
    {
      "cell_type": "code",
      "metadata": {
        "id": "yEQCUkYAyUQB"
      },
      "source": [
        "q1 = preco.quantile(.25)\n",
        "q3 = preco.quantile(.75)"
      ],
      "execution_count": 232,
      "outputs": []
    },
    {
      "cell_type": "markdown",
      "metadata": {
        "id": "TCOTm04KyYG4"
      },
      "source": [
        "## Intervalo interquatile"
      ]
    },
    {
      "cell_type": "code",
      "metadata": {
        "id": "EZt9mB1eyXRs"
      },
      "source": [
        "iiq = q3 - q1"
      ],
      "execution_count": 233,
      "outputs": []
    },
    {
      "cell_type": "markdown",
      "metadata": {
        "id": "sEztHa6Yyd4V"
      },
      "source": [
        "## Limites"
      ]
    },
    {
      "cell_type": "code",
      "metadata": {
        "id": "in4VOUtzybjE"
      },
      "source": [
        "lim_inf = q1 - 1.5 * iiq\n",
        "lim_sup = q3 + 1.5 * iiq"
      ],
      "execution_count": 234,
      "outputs": []
    },
    {
      "cell_type": "markdown",
      "metadata": {
        "id": "NxC9F3VByjoO"
      },
      "source": [
        "## Selecionando dados no intervalo"
      ]
    },
    {
      "cell_type": "code",
      "metadata": {
        "id": "lc2eiRoJyfiK"
      },
      "source": [
        "selecao = (preco >= lim_inf) & (preco <= lim_sup)\n",
        "\n",
        "df_new = df[selecao]"
      ],
      "execution_count": 235,
      "outputs": []
    },
    {
      "cell_type": "code",
      "metadata": {
        "colab": {
          "base_uri": "https://localhost:8080/",
          "height": 282
        },
        "id": "J5HguzcFynP6",
        "outputId": "d39a0ffa-699a-47f0-9793-bdebdc3c43cb"
      },
      "source": [
        "df_new.boxplot(['Preço'])"
      ],
      "execution_count": 237,
      "outputs": [
        {
          "output_type": "execute_result",
          "data": {
            "text/plain": [
              "<matplotlib.axes._subplots.AxesSubplot at 0x7f15bedbead0>"
            ]
          },
          "metadata": {},
          "execution_count": 237
        },
        {
          "output_type": "display_data",
          "data": {
            "image/png": "[encoded data removed]",
            "text/plain": [
              "<Figure size 432x288 with 1 Axes>"
            ]
          },
          "metadata": {
            "needs_background": "light"
          }
        }
      ]
    },
    {
      "cell_type": "markdown",
      "metadata": {
        "id": "1du0ALz4yzOi"
      },
      "source": [
        "## Histograma"
      ]
    },
    {
      "cell_type": "code",
      "metadata": {
        "colab": {
          "base_uri": "https://localhost:8080/",
          "height": 315
        },
        "id": "QSLFsAR0ypc6",
        "outputId": "545ceb02-0c03-4cc0-903e-5033c4e001e4"
      },
      "source": [
        "df_new.hist(['Preço'])"
      ],
      "execution_count": 239,
      "outputs": [
        {
          "output_type": "execute_result",
          "data": {
            "text/plain": [
              "array([[<matplotlib.axes._subplots.AxesSubplot object at 0x7f15bed9a2d0>]],\n",
              "      dtype=object)"
            ]
          },
          "metadata": {},
          "execution_count": 239
        },
        {
          "output_type": "display_data",
          "data": {
            "image/png": "[encoded data removed]",
            "text/plain": [
              "<Figure size 432x288 with 1 Axes>"
            ]
          },
          "metadata": {
            "needs_background": "light"
          }
        }
      ]
    },
    {
      "cell_type": "code",
      "metadata": {
        "id": "3NdgwmHVy22Q"
      },
      "source": [
        ""
      ],
      "execution_count": null,
      "outputs": []
    }
  ]
}