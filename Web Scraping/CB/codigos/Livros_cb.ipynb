{
  "nbformat": 4,
  "nbformat_minor": 0,
  "metadata": {
    "colab": {
      "name": "Livros_cb.ipynb",
      "provenance": []
    },
    "kernelspec": {
      "name": "python3",
      "display_name": "Python 3"
    },
    "language_info": {
      "name": "python"
    }
  },
  "cells": [
    {
      "cell_type": "markdown",
      "metadata": {
        "id": "P-uKwxct1xEc"
      },
      "source": [
        "# Importando bibliotecas"
      ]
    },
    {
      "cell_type": "code",
      "metadata": {
        "id": "BwI880dKWGhZ"
      },
      "source": [
        "%matplotlib inline\n",
        "import pandas as pd\n",
        "import matplotlib.pyplot as plt"
      ],
      "execution_count": 12,
      "outputs": []
    },
    {
      "cell_type": "markdown",
      "metadata": {
        "id": "CTPJbrtE111I"
      },
      "source": [
        "# Importando dados"
      ]
    },
    {
      "cell_type": "code",
      "metadata": {
        "id": "t2WJ8qN610J2"
      },
      "source": [
        "df = pd.read_csv('livros_cb.csv', sep=';')"
      ],
      "execution_count": 13,
      "outputs": []
    },
    {
      "cell_type": "markdown",
      "metadata": {
        "id": "EJRdNnhj19h2"
      },
      "source": [
        "# Removendo os box"
      ]
    },
    {
      "cell_type": "code",
      "metadata": {
        "id": "nMqObEJY16iL"
      },
      "source": [
        "lista = []\n",
        "for i in df['Livro'].unique():\n",
        "  if i.split()[0] != 'Box':\n",
        "    lista.append(i)\n"
      ],
      "execution_count": 14,
      "outputs": []
    },
    {
      "cell_type": "code",
      "metadata": {
        "id": "zyyfjMNt2aCr"
      },
      "source": [
        "selecao = df['Livro'].isin(lista)\n",
        "df = df[selecao]"
      ],
      "execution_count": 15,
      "outputs": []
    },
    {
      "cell_type": "code",
      "metadata": {
        "colab": {
          "base_uri": "https://localhost:8080/",
          "height": 419
        },
        "id": "dkZ_zPy22gP3",
        "outputId": "05eaef09-9fb2-41be-85f1-4e0294f16e6e"
      },
      "source": [
        "df"
      ],
      "execution_count": 16,
      "outputs": [
        {
          "output_type": "execute_result",
          "data": {
            "text/html": [
              "<div>\n",
              "<style scoped>\n",
              "    .dataframe tbody tr th:only-of-type {\n",
              "        vertical-align: middle;\n",
              "    }\n",
              "\n",
              "    .dataframe tbody tr th {\n",
              "        vertical-align: top;\n",
              "    }\n",
              "\n",
              "    .dataframe thead th {\n",
              "        text-align: right;\n",
              "    }\n",
              "</style>\n",
              "<table border=\"1\" class=\"dataframe\">\n",
              "  <thead>\n",
              "    <tr style=\"text-align: right;\">\n",
              "      <th></th>\n",
              "      <th>Livro</th>\n",
              "      <th>preco</th>\n",
              "      <th>parcelas</th>\n",
              "      <th>valor_parcelas</th>\n",
              "    </tr>\n",
              "  </thead>\n",
              "  <tbody>\n",
              "    <tr>\n",
              "      <th>1</th>\n",
              "      <td>Verissimo Antológico: Meio Século De Crônicas,...</td>\n",
              "      <td>87,90</td>\n",
              "      <td>1</td>\n",
              "      <td>87,90</td>\n",
              "    </tr>\n",
              "    <tr>\n",
              "      <th>2</th>\n",
              "      <td>Livro O Dia Do Relâmpago</td>\n",
              "      <td>47,92</td>\n",
              "      <td>1</td>\n",
              "      <td>47,92</td>\n",
              "    </tr>\n",
              "    <tr>\n",
              "      <th>3</th>\n",
              "      <td>The Walking Dead: a Queda do Governador - Vol...</td>\n",
              "      <td>41,42</td>\n",
              "      <td>1</td>\n",
              "      <td>41,42</td>\n",
              "    </tr>\n",
              "    <tr>\n",
              "      <th>4</th>\n",
              "      <td>The Walking Dead: a Queda do Governador - Par...</td>\n",
              "      <td>41,42</td>\n",
              "      <td>1</td>\n",
              "      <td>41,42</td>\n",
              "    </tr>\n",
              "    <tr>\n",
              "      <th>5</th>\n",
              "      <td>A Rainha Vermelha - Vol.1</td>\n",
              "      <td>34,32</td>\n",
              "      <td>1</td>\n",
              "      <td>34,32</td>\n",
              "    </tr>\n",
              "    <tr>\n",
              "      <th>...</th>\n",
              "      <td>...</td>\n",
              "      <td>...</td>\n",
              "      <td>...</td>\n",
              "      <td>...</td>\n",
              "    </tr>\n",
              "    <tr>\n",
              "      <th>615</th>\n",
              "      <td>Viagem Ao Centro Da Terra</td>\n",
              "      <td>20,90</td>\n",
              "      <td>1</td>\n",
              "      <td>20,90</td>\n",
              "    </tr>\n",
              "    <tr>\n",
              "      <th>616</th>\n",
              "      <td>A Volta Ao Mundo Em 80 Dias</td>\n",
              "      <td>16,90</td>\n",
              "      <td>1</td>\n",
              "      <td>16,90</td>\n",
              "    </tr>\n",
              "    <tr>\n",
              "      <th>617</th>\n",
              "      <td>Arsène Lupin Contra Herlock Sholmes</td>\n",
              "      <td>20,90</td>\n",
              "      <td>1</td>\n",
              "      <td>20,90</td>\n",
              "    </tr>\n",
              "    <tr>\n",
              "      <th>618</th>\n",
              "      <td>Timestorm: Porque, Do Destino, Não Há Como Esc...</td>\n",
              "      <td>20,90</td>\n",
              "      <td>1</td>\n",
              "      <td>20,90</td>\n",
              "    </tr>\n",
              "    <tr>\n",
              "      <th>619</th>\n",
              "      <td>Heróis</td>\n",
              "      <td>27,90</td>\n",
              "      <td>1</td>\n",
              "      <td>27,90</td>\n",
              "    </tr>\n",
              "  </tbody>\n",
              "</table>\n",
              "<p>617 rows × 4 columns</p>\n",
              "</div>"
            ],
            "text/plain": [
              "                                                 Livro  ... valor_parcelas\n",
              "1    Verissimo Antológico: Meio Século De Crônicas,...  ...          87,90\n",
              "2                             Livro O Dia Do Relâmpago  ...          47,92\n",
              "3     The Walking Dead: a Queda do Governador - Vol...  ...          41,42\n",
              "4     The Walking Dead: a Queda do Governador - Par...  ...          41,42\n",
              "5                            A Rainha Vermelha - Vol.1  ...          34,32\n",
              "..                                                 ...  ...            ...\n",
              "615                          Viagem Ao Centro Da Terra  ...          20,90\n",
              "616                        A Volta Ao Mundo Em 80 Dias  ...          16,90\n",
              "617                Arsène Lupin Contra Herlock Sholmes  ...          20,90\n",
              "618  Timestorm: Porque, Do Destino, Não Há Como Esc...  ...          20,90\n",
              "619                                             Heróis  ...          27,90\n",
              "\n",
              "[617 rows x 4 columns]"
            ]
          },
          "metadata": {},
          "execution_count": 16
        }
      ]
    },
    {
      "cell_type": "markdown",
      "metadata": {
        "id": "cXJVKGyl2z4C"
      },
      "source": [
        "# Selecionando os primeiros 500 resultados"
      ]
    },
    {
      "cell_type": "code",
      "metadata": {
        "colab": {
          "base_uri": "https://localhost:8080/"
        },
        "id": "hp4g58GO221N",
        "outputId": "526e0430-ae79-4c84-cfff-b3fb71e8cc8b"
      },
      "source": [
        "df = df.loc[0:502]\n",
        "df.shape[0]"
      ],
      "execution_count": 17,
      "outputs": [
        {
          "output_type": "execute_result",
          "data": {
            "text/plain": [
              "500"
            ]
          },
          "metadata": {},
          "execution_count": 17
        }
      ]
    },
    {
      "cell_type": "markdown",
      "metadata": {
        "id": "A0WLWrxs3Aio"
      },
      "source": [
        "# Organizando pelo preço"
      ]
    },
    {
      "cell_type": "code",
      "metadata": {
        "id": "RnzeuzW_23Lv"
      },
      "source": [
        "df = df.sort_values(by='preco', ascending=False)  "
      ],
      "execution_count": 19,
      "outputs": []
    },
    {
      "cell_type": "markdown",
      "metadata": {
        "id": "zhkjthpi3N_r"
      },
      "source": [
        "# Ajustando a coluna Preço"
      ]
    },
    {
      "cell_type": "code",
      "metadata": {
        "colab": {
          "base_uri": "https://localhost:8080/"
        },
        "id": "ed4R3sSV3DAH",
        "outputId": "e53dd0bd-c601-46b9-d26b-ad004988b238"
      },
      "source": [
        "df.info()"
      ],
      "execution_count": 20,
      "outputs": [
        {
          "output_type": "stream",
          "name": "stdout",
          "text": [
            "<class 'pandas.core.frame.DataFrame'>\n",
            "Int64Index: 500 entries, 136 to 252\n",
            "Data columns (total 4 columns):\n",
            " #   Column          Non-Null Count  Dtype \n",
            "---  ------          --------------  ----- \n",
            " 0   Livro           500 non-null    object\n",
            " 1   preco           500 non-null    object\n",
            " 2   parcelas        500 non-null    int64 \n",
            " 3   valor_parcelas  500 non-null    object\n",
            "dtypes: int64(1), object(3)\n",
            "memory usage: 19.5+ KB\n"
          ]
        }
      ]
    },
    {
      "cell_type": "code",
      "metadata": {
        "id": "COR24kYK3K9f"
      },
      "source": [
        "df['preco'] = df['preco'].str.replace(',','.')\n",
        "df['preco'] = df['preco'].astype(float, errors = 'raise')"
      ],
      "execution_count": 22,
      "outputs": []
    },
    {
      "cell_type": "code",
      "metadata": {
        "colab": {
          "base_uri": "https://localhost:8080/"
        },
        "id": "iplTRp-o3b-y",
        "outputId": "a94d0707-35a9-408b-9ae1-59214f05145c"
      },
      "source": [
        "df.info()"
      ],
      "execution_count": 23,
      "outputs": [
        {
          "output_type": "stream",
          "name": "stdout",
          "text": [
            "<class 'pandas.core.frame.DataFrame'>\n",
            "Int64Index: 500 entries, 136 to 252\n",
            "Data columns (total 4 columns):\n",
            " #   Column          Non-Null Count  Dtype  \n",
            "---  ------          --------------  -----  \n",
            " 0   Livro           500 non-null    object \n",
            " 1   preco           500 non-null    float64\n",
            " 2   parcelas        500 non-null    int64  \n",
            " 3   valor_parcelas  500 non-null    object \n",
            "dtypes: float64(1), int64(1), object(2)\n",
            "memory usage: 19.5+ KB\n"
          ]
        }
      ]
    },
    {
      "cell_type": "code",
      "metadata": {
        "colab": {
          "base_uri": "https://localhost:8080/",
          "height": 265
        },
        "id": "X4rApZfm3dLF",
        "outputId": "3e5bcb7d-4e7d-46bd-bd5d-20b789e5ecba"
      },
      "source": [
        "df2 = df.boxplot('preco')"
      ],
      "execution_count": 25,
      "outputs": [
        {
          "output_type": "display_data",
          "data": {
            "image/png": "[encoded data removed]",
            "text/plain": [
              "<Figure size 432x288 with 1 Axes>"
            ]
          },
          "metadata": {
            "needs_background": "light"
          }
        }
      ]
    },
    {
      "cell_type": "markdown",
      "metadata": {
        "id": "R9LnAo_r3kvZ"
      },
      "source": [
        "# Tratamento estatístico"
      ]
    },
    {
      "cell_type": "code",
      "metadata": {
        "colab": {
          "base_uri": "https://localhost:8080/"
        },
        "id": "as7OZt9K3gfd",
        "outputId": "fcbebd7d-561a-4713-a9f9-08df1a3658bd"
      },
      "source": [
        "df['preco'].describe()"
      ],
      "execution_count": 26,
      "outputs": [
        {
          "output_type": "execute_result",
          "data": {
            "text/plain": [
              "count    500.000000\n",
              "mean      70.533820\n",
              "std       63.743931\n",
              "min        0.000000\n",
              "25%       30.000000\n",
              "50%       44.595000\n",
              "75%      122.897500\n",
              "max      277.300000\n",
              "Name: preco, dtype: float64"
            ]
          },
          "metadata": {},
          "execution_count": 26
        }
      ]
    },
    {
      "cell_type": "code",
      "metadata": {
        "id": "NfUr02mX3qbh"
      },
      "source": [
        "preco = df['preco']"
      ],
      "execution_count": 28,
      "outputs": []
    },
    {
      "cell_type": "markdown",
      "metadata": {
        "id": "rQ4geChJ3v7-"
      },
      "source": [
        "## Primeiro e terceiro quartis"
      ]
    },
    {
      "cell_type": "code",
      "metadata": {
        "id": "VFFUi7uz3szj"
      },
      "source": [
        "q1 = preco.quantile(.25)\n",
        "q3 = preco.quantile(.75)"
      ],
      "execution_count": 29,
      "outputs": []
    },
    {
      "cell_type": "markdown",
      "metadata": {
        "id": "9HNNKqhd30fG"
      },
      "source": [
        "## Intervalo interquatile"
      ]
    },
    {
      "cell_type": "code",
      "metadata": {
        "id": "riLfepm-3zyb"
      },
      "source": [
        "iiq = q3 - q1"
      ],
      "execution_count": 30,
      "outputs": []
    },
    {
      "cell_type": "markdown",
      "metadata": {
        "id": "z5oqlEdb37D-"
      },
      "source": [
        "## Limites"
      ]
    },
    {
      "cell_type": "code",
      "metadata": {
        "id": "yuEfNOwH346d"
      },
      "source": [
        "lim_inf = q1 - 1.5 * iiq\n",
        "lim_sup = q3 + 1.5 * iiq"
      ],
      "execution_count": 31,
      "outputs": []
    },
    {
      "cell_type": "markdown",
      "metadata": {
        "id": "PjY_Zv1c3-3d"
      },
      "source": [
        "## Selecionando os dados do intervalo"
      ]
    },
    {
      "cell_type": "code",
      "metadata": {
        "id": "rIPesUhe38a8"
      },
      "source": [
        "selecao = (preco >= lim_inf) & (preco <= lim_sup)\n",
        "\n",
        "df_new = df[selecao]"
      ],
      "execution_count": 32,
      "outputs": []
    },
    {
      "cell_type": "code",
      "metadata": {
        "colab": {
          "base_uri": "https://localhost:8080/",
          "height": 283
        },
        "id": "NH4ANprS4Bl6",
        "outputId": "e49b1d6c-a18a-4760-a016-42ca2ce78b76"
      },
      "source": [
        "df_new.boxplot(['preco'])"
      ],
      "execution_count": 33,
      "outputs": [
        {
          "output_type": "execute_result",
          "data": {
            "text/plain": [
              "<matplotlib.axes._subplots.AxesSubplot at 0x7f931a54c490>"
            ]
          },
          "metadata": {},
          "execution_count": 33
        },
        {
          "output_type": "display_data",
          "data": {
            "image/png": "[encoded data removed]",
            "text/plain": [
              "<Figure size 432x288 with 1 Axes>"
            ]
          },
          "metadata": {
            "needs_background": "light"
          }
        }
      ]
    },
    {
      "cell_type": "markdown",
      "metadata": {
        "id": "50Vva8FC4G76"
      },
      "source": [
        "## Histograma"
      ]
    },
    {
      "cell_type": "code",
      "metadata": {
        "colab": {
          "base_uri": "https://localhost:8080/",
          "height": 315
        },
        "id": "pzh9rcUi4EWa",
        "outputId": "85d6d19f-96e8-450b-dce1-338cbe0dc1ab"
      },
      "source": [
        "df_new.hist(['preco'])"
      ],
      "execution_count": 35,
      "outputs": [
        {
          "output_type": "execute_result",
          "data": {
            "text/plain": [
              "array([[<matplotlib.axes._subplots.AxesSubplot object at 0x7f931a28cb90>]],\n",
              "      dtype=object)"
            ]
          },
          "metadata": {},
          "execution_count": 35
        },
        {
          "output_type": "display_data",
          "data": {
            "image/png": "[encoded data removed]",
            "text/plain": [
              "<Figure size 432x288 with 1 Axes>"
            ]
          },
          "metadata": {
            "needs_background": "light"
          }
        }
      ]
    },
    {
      "cell_type": "code",
      "metadata": {
        "id": "_JX2CkfN4I0Z"
      },
      "source": [
        ""
      ],
      "execution_count": null,
      "outputs": []
    }
  ]
}